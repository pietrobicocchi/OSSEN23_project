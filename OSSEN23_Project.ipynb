{
 "cells": [
  {
   "cell_type": "code",
   "execution_count": 3,
   "id": "6088d7f1",
   "metadata": {},
   "outputs": [
    {
     "name": "stdout",
     "output_type": "stream",
     "text": [
      "/Users/pietrobicocchi/Desktop/OSSEN23_Project\n"
     ]
    }
   ],
   "source": [
    "import pandas as pd\n",
    "import numpy as np\n",
    "import scipy.stats\n",
    "import math\n",
    "\n",
    "# System files \n",
    "import sys\n",
    "import os\n",
    "\n",
    "#sys.path.append('..')  # now I'm in the parent directory\n",
    "cwd = os.getcwd()\n",
    "print(cwd)\n",
    "\n",
    "# external libraries\n",
    "\n",
    "\n",
    "# Plotting\n",
    "import matplotlib.pyplot as plt\n",
    "from matplotlib import rcParams\n",
    "import seaborn as sns \n",
    "%matplotlib inline\n",
    "\n",
    "# Set the preset style and context\n",
    "sns.set_style('ticks')\n",
    "sns.set_palette('dark')\n",
    "\n",
    "\n",
    "def config_mpl():\n",
    "    rcParams['axes.spines.bottom']=True\n",
    "    rcParams['axes.spines.right']=False\n",
    "    rcParams['axes.spines.left']=False\n",
    "    rcParams['axes.spines.top']=False\n",
    "    rcParams['axes.linewidth'] = 2\n",
    "    rcParams['axes.edgecolor'] = 'grey'\n",
    "\n",
    "    rcParams['axes.ymargin'] = 0\n",
    "    rcParams['axes.axisbelow'] = True\n",
    "    rcParams['axes.labelsize'] = 14\n",
    "    rcParams['legend.fontsize'] = 15\n",
    "    rcParams['legend.loc'] = 'upper right' \n",
    "\n",
    "    rcParams['ytick.major.width'] = 0\n",
    "    rcParams['ytick.major.size'] = 0\n",
    "    rcParams['ytick.color'] = 'grey'\n",
    "\n",
    "    rcParams['xtick.major.width'] = 2\n",
    "    rcParams['xtick.major.size'] = 5\n",
    "    rcParams['xtick.color'] = 'grey'\n",
    "\n",
    "    rcParams['font.size'] = 14\n",
    "    rcParams['font.family'] = 'Arial'\n",
    "    #rcParams['text.color'] = 'grey'\n",
    "    #rcParams['axes.labelcolor'] = 'grey'\n",
    "\n",
    "    rcParams['figure.figsize'] = (10, 10)\n",
    "\n",
    "    rcParams['savefig.bbox'] = 'tight'\n",
    "    rcParams['savefig.dpi'] = 900\n",
    "    rcParams['savefig.transparent'] = True\n",
    "\n",
    "    # Plot Styles\n",
    "    rcParams['lines.linewidth'] = 1\n",
    "    rcParams['lines.markersize'] = 4\n",
    "    \n",
    "config_mpl()"
   ]
  },
  {
   "cell_type": "code",
   "execution_count": 1,
   "id": "bea65065",
   "metadata": {},
   "outputs": [
    {
     "name": "stdout",
     "output_type": "stream",
     "text": [
      "hello worlds\n"
     ]
    }
   ],
   "source": [
    "\n",
    "print(\"hello worlds\")"
   ]
  },
  {
   "cell_type": "markdown",
   "id": "4f172096",
   "metadata": {},
   "source": [
    "plot somthing "
   ]
  },
  {
   "cell_type": "code",
   "execution_count": null,
   "id": "d1eab93b",
   "metadata": {},
   "outputs": [],
   "source": []
  }
 ],
 "metadata": {
  "kernelspec": {
   "display_name": "Python 3 (ipykernel)",
   "language": "python",
   "name": "python3"
  },
  "language_info": {
   "codemirror_mode": {
    "name": "ipython",
    "version": 3
   },
   "file_extension": ".py",
   "mimetype": "text/x-python",
   "name": "python",
   "nbconvert_exporter": "python",
   "pygments_lexer": "ipython3",
   "version": "3.9.12"
  }
 },
 "nbformat": 4,
 "nbformat_minor": 5
}
